{
 "nbformat": 4,
 "nbformat_minor": 2,
 "metadata": {
  "language_info": {
   "name": "python",
   "codemirror_mode": {
    "name": "ipython",
    "version": 3
   },
   "version": "3.7.5-final"
  },
  "orig_nbformat": 2,
  "file_extension": ".py",
  "mimetype": "text/x-python",
  "name": "python",
  "npconvert_exporter": "python",
  "pygments_lexer": "ipython3",
  "version": 3,
  "kernelspec": {
   "name": "python37564bitspeechactionclassifierpipenv9f5f4c8910dd4870ae43479f8ed6aa94",
   "display_name": "Python 3.7.5 64-bit ('SpeechActionClassifier': pipenv)"
  }
 },
 "cells": [
  {
   "cell_type": "code",
   "execution_count": 1,
   "metadata": {},
   "outputs": [
    {
     "name": "stdout",
     "output_type": "stream",
     "text": "Tensorflow Version:  2.1.0\nNum GPUs Available:  1\n"
    }
   ],
   "source": [
    "from __future__ import absolute_import, division, print_function, unicode_literals\n",
    "from termcolor import cprint\n",
    "import tensorflow as tf\n",
    "import IPython.display as display\n",
    "import numpy as np\n",
    "import os\n",
    "import pathlib\n",
    "import cv2 as cv2\n",
    "import random\n",
    "\n",
    "AUTOTUNE = tf.data.experimental.AUTOTUNE\n",
    "\n",
    "print(\"Tensorflow Version: \", tf.__version__)\n",
    "print(\"Num GPUs Available: \", len(tf.config.experimental.list_physical_devices('GPU')))\n"
   ]
  },
  {
   "cell_type": "code",
   "execution_count": 2,
   "metadata": {},
   "outputs": [
    {
     "name": "stdout",
     "output_type": "stream",
     "text": "Samples: 386, Classes: 2 ['Idle', 'Speak']\n"
    }
   ],
   "source": [
    "data_dir = pathlib.Path(\"data/\")\n",
    "\n",
    "# Get class names from classes.txt\n",
    "CLASS_NAMES = []\n",
    "with open(data_dir/\"classes.txt\") as classes_file:\n",
    "    CLASS_NAMES = classes_file.read().splitlines()\n",
    "\n",
    "n_samples = 0\n",
    "# Count number of mp4 files in data dir\n",
    "for c in CLASS_NAMES:\n",
    "    n_samples += len(list(data_dir.glob('**/{}/*.mp4'.format(c))))\n",
    "\n",
    "print(\"Samples: {}, Classes: {} {}\".format(n_samples, len(CLASS_NAMES), CLASS_NAMES))"
   ]
  },
  {
   "cell_type": "code",
   "execution_count": 3,
   "metadata": {},
   "outputs": [],
   "source": [
    "# Initialize numpy dataset\n",
    "dataset = np.zeros(shape=(n_samples, 15, 240, 320, 3), dtype=np.float32)\n",
    "labels = np.zeros(shape=(n_samples, len(CLASS_NAMES)), dtype=np.uint8)"
   ]
  },
  {
   "cell_type": "code",
   "execution_count": 4,
   "metadata": {},
   "outputs": [],
   "source": [
    "# Gets the label of a file from the path\n",
    "def get_label(path):\n",
    "    return path.parts[-2]\n",
    "\n",
    "\n",
    "# Load a frame from an opencv capture and returns it as a numpy ndarray\n",
    "def load_frame_as_ndarray(cap):\n",
    "    ret, frame = cap.read()\n",
    "    if ret:\n",
    "        frame = cv2.cvtColor(frame, cv2.COLOR_BGR2RGB)\n",
    "        frame = np.asarray(frame)\n",
    "        frame = frame.astype('float32')\n",
    "        frame *= 1.0/255.0\n",
    "        return frame\n",
    "    else:\n",
    "        return None\n",
    "\n",
    "\n",
    "# Loads the video file in the provided path as an array of frames\n",
    "def load_video_as_ndarray(path):\n",
    "    if path.is_file():\n",
    "        #print(\"Loading file {}...\".format(path))\n",
    "        cap = cv2.VideoCapture(str(path.absolute()))\n",
    "        n_frames = int(cap.get(cv2.CAP_PROP_FRAME_COUNT))\n",
    "\n",
    "        if n_frames > 15:\n",
    "            cprint(\"WARNING: Video file {} contains more than 15 frames (was: {}). Extra frames will be ignored.\".format(path, n_frames), 'yellow')\n",
    "        elif n_frames < 15:\n",
    "            cprint(\"WARNING: Video file {} contains less than 15 frames (was: {}). Last frame will be duplicated.\".format(path, n_frames), 'yellow')\n",
    "\n",
    "        frames = []\n",
    "        for i in range(15):\n",
    "            frame = load_frame_as_ndarray(cap)\n",
    "            if frame is not None:\n",
    "                frames.append(frame)\n",
    "            else:\n",
    "                frames.append(frames[i-1])\n",
    "\n",
    "        frames = np.asarray(frames)\n",
    "        return frames\n",
    "    else:\n",
    "        cprint(\"ERROR: File does not exist '{}'\".format(path), 'red')\n",
    "        return None\n",
    "\n",
    "# Warning for classes in dataset not declared in classes.txt\n",
    "undeclared_classes=[]\n",
    "def warn_undeclared(label):\n",
    "    if label not in undeclared_classes:\n",
    "        cprint(\"WARNING: A file was found with class '{}', not declared in 'classes.txt'. The file will be skipped.\".format(label), 'yellow')\n",
    "        undeclared_classes.append(label)"
   ]
  },
  {
   "cell_type": "code",
   "execution_count": 5,
   "metadata": {},
   "outputs": [],
   "source": [
    "#Test load video function\n",
    "#video = load_video_as_ndarray(pathlib.Path(\"data/14/Examine/000390.mp4\"))"
   ]
  },
  {
   "cell_type": "code",
   "execution_count": 6,
   "metadata": {},
   "outputs": [
    {
     "name": "stdout",
     "output_type": "stream",
     "text": "\u001b[33mWARNING: A file was found with class 'Nod', not declared in 'classes.txt'. The file will be skipped.\u001b[0m\n\u001b[33mWARNING: A file was found with class 'Examine', not declared in 'classes.txt'. The file will be skipped.\u001b[0m\n\u001b[33mWARNING: Video file data\\14\\Idle\\000454.mp4 contains less than 15 frames (was: 13). Last frame will be duplicated.\u001b[0m\n\u001b[33mWARNING: A file was found with class 'Shake', not declared in 'classes.txt'. The file will be skipped.\u001b[0m\n"
    }
   ],
   "source": [
    "n_loaded = 0\n",
    "files_list = list(data_dir.glob('**/*.mp4'))\n",
    "random.shuffle(files_list)\n",
    "for f in files_list:\n",
    "    label = get_label(f)\n",
    "    if label in CLASS_NAMES:\n",
    "        dataset[n_loaded] = load_video_as_ndarray(f)\n",
    "        labels[n_loaded][CLASS_NAMES.index(label)] = 1\n",
    "        n_loaded += 1\n",
    "    else:\n",
    "        warn_undeclared(label)"
   ]
  },
  {
   "cell_type": "code",
   "execution_count": 7,
   "metadata": {},
   "outputs": [],
   "source": [
    "# Export dataset to npz file\n",
    "np.savez('export/data/dataset.npz', dataset=dataset, labels=labels)"
   ]
  },
  {
   "cell_type": "code",
   "execution_count": 8,
   "metadata": {},
   "outputs": [],
   "source": [
    "exit()"
   ]
  },
  {
   "cell_type": "code",
   "execution_count": null,
   "metadata": {},
   "outputs": [],
   "source": []
  }
 ]
}