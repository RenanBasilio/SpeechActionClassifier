{
 "nbformat": 4,
 "nbformat_minor": 2,
 "metadata": {
  "language_info": {
   "name": "python",
   "codemirror_mode": {
    "name": "ipython",
    "version": 3
   },
   "version": "3.7.5-final"
  },
  "orig_nbformat": 2,
  "file_extension": ".py",
  "mimetype": "text/x-python",
  "name": "python",
  "npconvert_exporter": "python",
  "pygments_lexer": "ipython3",
  "version": 3,
  "kernelspec": {
   "name": "python37564bitspeechactionclassifierpipenv7ebfd57b722e46dcbf4fdb8a0b7fdf64",
   "display_name": "Python 3.7.5 64-bit ('SpeechActionClassifier': pipenv)"
  }
 },
 "cells": [
  {
   "cell_type": "code",
   "execution_count": 4,
   "metadata": {},
   "outputs": [],
   "source": [
    "from __future__ import absolute_import, division, print_function, unicode_literals\n",
    "\n",
    "import tensorflow as tf\n",
    "import numpy as np\n",
    "from loader import VideoDataGenerator\n",
    "\n",
    "import pathlib\n",
    "import loader\n",
    "\n",
    "tf.keras.backend.clear_session()"
   ]
  },
  {
   "cell_type": "code",
   "execution_count": 5,
   "metadata": {},
   "outputs": [],
   "source": [
    "data_dir = pathlib.Path(\"./data\")\n",
    "test_ds = list((data_dir / \"Test\").glob(\"**/*.mp4\"))\n",
    "\n",
    "test_generator = VideoDataGenerator(test_ds)"
   ]
  },
  {
   "cell_type": "code",
   "execution_count": 6,
   "metadata": {},
   "outputs": [
    {
     "name": "stdout",
     "output_type": "stream",
     "text": "WARNING:tensorflow:sample_weight modes were coerced from\n  ...\n    to  \n  ['...']\n 24/106 [=====>........................] - ETA: 23s - loss: 0.7342 - accuracy: 0.5104\u001b[33mWARNING: Video file data\\Test\\14\\Idle\\000454.mp4 contains less than 15 frames (was: 13). Last frame will be duplicated.\u001b[0m\n106/106 [==============================] - 22s 209ms/step - loss: 0.7427 - accuracy: 0.5236\n"
    },
    {
     "data": {
      "text/plain": "[0.7426865539460812, 0.5235849]"
     },
     "execution_count": 6,
     "metadata": {},
     "output_type": "execute_result"
    }
   ],
   "source": [
    "model_path = pathlib.Path(\"export/model.h5\")\n",
    "model = tf.keras.models.load_model(model_path)\n",
    "\n",
    "model.evaluate(test_generator)"
   ]
  },
  {
   "cell_type": "code",
   "execution_count": null,
   "metadata": {},
   "outputs": [],
   "source": []
  }
 ]
}