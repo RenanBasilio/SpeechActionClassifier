{
 "nbformat": 4,
 "nbformat_minor": 2,
 "metadata": {
  "language_info": {
   "name": "python",
   "codemirror_mode": {
    "name": "ipython",
    "version": 3
   },
   "version": "3.7.4-final"
  },
  "orig_nbformat": 2,
  "file_extension": ".py",
  "mimetype": "text/x-python",
  "name": "python",
  "npconvert_exporter": "python",
  "pygments_lexer": "ipython3",
  "version": 3,
  "kernelspec": {
   "name": "python37464bitspeechactionclassifierpipenv999369a8eeb6444db7a1f54efdb7fc2c",
   "display_name": "Python 3.7.4 64-bit ('SpeechActionClassifier': pipenv)"
  }
 },
 "cells": [
  {
   "cell_type": "code",
   "execution_count": null,
   "metadata": {},
   "outputs": [],
   "source": [
    "from __future__ import absolute_import, division, print_function, unicode_literals\n",
    "\n",
    "import tensorflow as tf\n",
    "import numpy as np\n",
    "\n",
    "import pathlib\n",
    "import loader\n",
    "\n",
    "from termcolor import cprint\n",
    "\n",
    "tf.keras.backend.clear_session()"
   ]
  },
  {
   "cell_type": "code",
   "execution_count": null,
   "metadata": {},
   "outputs": [],
   "source": [
    "model_path = pathlib.Path(\"export/model_2020-2-19-2230.h5\")\n",
    "model = tf.keras.models.load_model(model_path)"
   ]
  },
  {
   "cell_type": "code",
   "execution_count": null,
   "metadata": {},
   "outputs": [],
   "source": [
    "video_path = pathlib.Path(\"data/Test/14/\")\n",
    "for v in video_path.glob(\"**/*.mp4\"):\n",
    "    video = loader.load_video_as_ndarray(v, color_mode='landmarks')\n",
    "    video = np.expand_dims(video, axis=0)\n",
    "    prediction = model.predict(video)\n",
    "    label = loader.get_label_from_index(pathlib.Path(\"data/classes.txt\"), np.argmax(prediction[0]))\n",
    "\n",
    "    color = 'red'\n",
    "    if label == loader.get_label(v):\n",
    "        color = 'green'\n",
    "\n",
    "    cprint(\"Prediction for '{}': {} (expected {})\".format(v, label,  loader.get_label(v)), color)\n"
   ]
  },
  {
   "cell_type": "code",
   "execution_count": null,
   "metadata": {},
   "outputs": [],
   "source": []
  }
 ]
}