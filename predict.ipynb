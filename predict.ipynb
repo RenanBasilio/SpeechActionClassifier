{
 "nbformat": 4,
 "nbformat_minor": 2,
 "metadata": {
  "language_info": {
   "name": "python",
   "codemirror_mode": {
    "name": "ipython",
    "version": 3
   },
   "version": "3.7.5-final"
  },
  "orig_nbformat": 2,
  "file_extension": ".py",
  "mimetype": "text/x-python",
  "name": "python",
  "npconvert_exporter": "python",
  "pygments_lexer": "ipython3",
  "version": 3,
  "kernelspec": {
   "name": "python37564bitspeechactionclassifierpipenv9f5f4c8910dd4870ae43479f8ed6aa94",
   "display_name": "Python 3.7.5 64-bit ('SpeechActionClassifier': pipenv)"
  }
 },
 "cells": [
  {
   "cell_type": "code",
   "execution_count": 1,
   "metadata": {},
   "outputs": [],
   "source": [
    "from __future__ import absolute_import, division, print_function, unicode_literals\n",
    "\n",
    "import tensorflow as tf\n",
    "import numpy as np\n",
    "\n",
    "import pathlib\n",
    "import loader\n",
    "\n",
    "tf.keras.backend.clear_session()"
   ]
  },
  {
   "cell_type": "code",
   "execution_count": 2,
   "metadata": {},
   "outputs": [],
   "source": [
    "model_path = pathlib.Path(\"export/model.h5\")\n",
    "model = tf.keras.models.load_model(model_path)"
   ]
  },
  {
   "cell_type": "code",
   "execution_count": 22,
   "metadata": {},
   "outputs": [
    {
     "name": "stdout",
     "output_type": "stream",
     "text": "Prediction for 'data\\14\\Speak\\000327.mp4': Speak\n"
    }
   ],
   "source": [
    "video_path = pathlib.Path(\"data/14/Speak/000327.mp4\")\n",
    "video = loader.load_video_as_ndarray(video_path)\n",
    "video = np.expand_dims(video, axis=0)\n",
    "\n",
    "prediction = model.predict(video)\n",
    "print(\"Prediction for '{}': {}\".format(video_path, loader.get_label_from_index(np.argmax(prediction[0]))))"
   ]
  },
  {
   "cell_type": "code",
   "execution_count": null,
   "metadata": {},
   "outputs": [],
   "source": []
  }
 ]
}