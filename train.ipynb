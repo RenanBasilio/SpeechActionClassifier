{
 "nbformat": 4,
 "nbformat_minor": 2,
 "metadata": {
  "language_info": {
   "name": "python",
   "codemirror_mode": {
    "name": "ipython",
    "version": 3
   },
   "version": "3.7.4-final"
  },
  "orig_nbformat": 2,
  "file_extension": ".py",
  "mimetype": "text/x-python",
  "name": "python",
  "npconvert_exporter": "python",
  "pygments_lexer": "ipython3",
  "version": 3,
  "kernelspec": {
   "name": "python37464bitspeechactionclassifierpipenv999369a8eeb6444db7a1f54efdb7fc2c",
   "display_name": "Python 3.7.4 64-bit ('SpeechActionClassifier': pipenv)"
  }
 },
 "cells": [
  {
   "cell_type": "code",
   "execution_count": null,
   "metadata": {},
   "outputs": [],
   "source": [
    "from __future__ import absolute_import, division, print_function, unicode_literals\n",
    "\n",
    "import numpy as np\n",
    "import tensorflow as tf\n",
    "import pathlib\n",
    "import matplotlib.pyplot as plt\n",
    "import datetime\n",
    "\n",
    "from tensorflow.keras.models import Sequential\n",
    "from tensorflow.keras.layers import Dense, Conv3D, Flatten, Dropout, MaxPooling3D, GlobalMaxPooling3D\n",
    "\n",
    "from generators import VideoDataGenerator\n",
    "from loader import get_classes\n",
    "\n",
    "AUTOTUNE = tf.data.experimental.AUTOTUNE\n",
    "\n",
    "print(\"Tensorflow Version: \", tf.__version__)\n",
    "print(\"Num GPUs Available: \", len(tf.config.experimental.list_physical_devices('GPU')))"
   ]
  },
  {
   "cell_type": "code",
   "execution_count": null,
   "metadata": {},
   "outputs": [],
   "source": [
    "data_dir = pathlib.Path(\"./data\")\n",
    "classes = get_classes(data_dir / \"classes.txt\")\n",
    "\n",
    "params = {\n",
    "    'color_mode': 'landmarks',\n",
    "    'optical_flow': False,\n",
    "    'batch_size': 4,\n",
    "    'shuffle': True,\n",
    "    'classes': classes\n",
    "}\n",
    "\n",
    "partition = {\n",
    "    'train': list((data_dir / \"Train\").glob(\"**/*.mp4\")),\n",
    "    'test': list((data_dir / \"Test\").glob(\"**/*.mp4\"))\n",
    "}\n",
    "\n",
    "training_generator = VideoDataGenerator(partition['train'], **params)\n",
    "validation_generator = VideoDataGenerator(partition['test'], **params)"
   ]
  },
  {
   "cell_type": "code",
   "execution_count": null,
   "metadata": {},
   "outputs": [],
   "source": [
    "#model = Sequential([\n",
    "#    Conv3D(16, (3, 7, 7), activation='relu', input_shape=(15, 240, 320, training_generator.n_channels)),\n",
    "#    Conv3D(24, (3, 7, 7), activation='relu'),\n",
    "#    MaxPooling3D((1, 3, 3)),\n",
    "#    Conv3D(32, (3, 5, 7), activation='relu'),\n",
    "#    Conv3D(64, (3, 5, 7), activation='relu'),\n",
    "#    MaxPooling3D((1, 2, 2)),\n",
    "#    Conv3D(128, (3, 3, 5), activation='relu'),\n",
    "#    Conv3D(256, (3, 3, 5), activation='relu'),\n",
    "#    Conv3D(512, (3, 3, 5), activation='relu'),\n",
    "#    MaxPooling3D((1, 2, 2)),\n",
    "#    Flatten(),\n",
    "#    Dense(512, activation='relu'),\n",
    "#    Dense(256, activation='relu'),\n",
    "#    Dense(2, activation='softmax')\n",
    "#])\n",
    "\n",
    "model = Sequential([\n",
    "    Conv3D(16, (1, 4, 3), activation='relu', input_shape=(training_generator.dim)),\n",
    "    MaxPooling3D(),\n",
    "    Conv3D(32, (1, 4, 3), activation='relu'),\n",
    "    MaxPooling3D(),\n",
    "    Conv3D(64, (1, 4, 3), activation='relu'),\n",
    "    MaxPooling3D(),\n",
    "    Flatten(),\n",
    "    Dense(512, activation='relu'),\n",
    "    Dense(2, activation='softmax')\n",
    "])\n",
    "\n",
    "model.compile(optimizer='adam', loss='categorical_crossentropy', metrics=['accuracy'])\n",
    "\n",
    "model.summary()"
   ]
  },
  {
   "cell_type": "code",
   "execution_count": null,
   "metadata": {},
   "outputs": [],
   "source": [
    "callback = tf.keras.callbacks.EarlyStopping(monitor='val_loss', patience=3, restore_best_weights=True)\n",
    "\n",
    "history = model.fit(training_generator, validation_data=validation_generator, epochs=100, callbacks=[callback])"
   ]
  },
  {
   "cell_type": "code",
   "execution_count": null,
   "metadata": {},
   "outputs": [],
   "source": [
    "plt.plot(history.history['accuracy'], label='accuracy')\n",
    "plt.plot(history.history['val_accuracy'], label = 'val_accuracy')\n",
    "plt.xlabel('Epoch')\n",
    "plt.ylabel('Accuracy')\n",
    "plt.ylim([0.5, 1])\n",
    "plt.legend(loc='lower right')"
   ]
  },
  {
   "cell_type": "code",
   "execution_count": null,
   "metadata": {},
   "outputs": [],
   "source": [
    "export_time = datetime.datetime.now()\n",
    "export_path = pathlib.Path(\"export/model_{}-{}-{}-{}{}.h5\".format(export_time.year, export_time.month, export_time.day, export_time.hour, export_time.minute))\n",
    "print(\"Exporting trained model to {}\".format(export_path.absolute()))\n",
    "\n",
    "model.save(export_path)"
   ]
  },
  {
   "cell_type": "code",
   "execution_count": null,
   "metadata": {},
   "outputs": [],
   "source": []
  }
 ]
}