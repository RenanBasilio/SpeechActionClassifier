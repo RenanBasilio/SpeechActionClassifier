{
 "nbformat": 4,
 "nbformat_minor": 2,
 "metadata": {
  "language_info": {
   "name": "python",
   "codemirror_mode": {
    "name": "ipython",
    "version": 3
   },
   "version": "3.7.5-final"
  },
  "orig_nbformat": 2,
  "file_extension": ".py",
  "mimetype": "text/x-python",
  "name": "python",
  "npconvert_exporter": "python",
  "pygments_lexer": "ipython3",
  "version": 3,
  "kernelspec": {
   "name": "python37564bitspeechactionclassifierpipenv7ebfd57b722e46dcbf4fdb8a0b7fdf64",
   "display_name": "Python 3.7.5 64-bit ('SpeechActionClassifier': pipenv)"
  }
 },
 "cells": [
  {
   "cell_type": "code",
   "execution_count": null,
   "metadata": {},
   "outputs": [],
   "source": [
    "from __future__ import absolute_import, division, print_function, unicode_literals\n",
    "\n",
    "import numpy as np\n",
    "import tensorflow as tf\n",
    "import pathlib\n",
    "import matplotlib.pyplot as plt\n",
    "import datetime\n",
    "import pandas as pd\n",
    "import shutil\n",
    "\n",
    "from tensorflow.keras.models import Sequential\n",
    "from tensorflow.keras.layers import Dense, Conv3D, Flatten, Dropout, MaxPooling3D, GlobalMaxPooling3D\n",
    "\n",
    "from modules.generators import VideoDataGenerator\n",
    "from modules.loader import get_classes, get_files_list\n",
    "\n",
    "AUTOTUNE = tf.data.experimental.AUTOTUNE\n",
    "gpus = tf.config.experimental.list_physical_devices('GPU')\n",
    "for gpu in gpus:\n",
    "    tf.config.experimental.set_memory_growth(gpu, True)\n",
    "\n",
    "print(\"Tensorflow Version: \", tf.__version__)\n",
    "print(\"Num GPUs Available: \", len(gpus))"
   ]
  },
  {
   "cell_type": "code",
   "execution_count": null,
   "metadata": {},
   "outputs": [],
   "source": [
    "data_dir = pathlib.Path(\"./data\")\n",
    "classes = get_classes(data_dir / \"classes.txt\")\n",
    "\n",
    "params = {\n",
    "    'color_mode': 'landmarks',\n",
    "    'optical_flow': False,\n",
    "    'batch_size': 8,\n",
    "    'shuffle': True,\n",
    "    'classes': classes,\n",
    "    'max_processes': 8\n",
    "}\n",
    "\n",
    "partition = get_files_list(data_dir)\n",
    "\n",
    "training_generator = VideoDataGenerator(partition['Train'], **params)\n",
    "validation_generator = VideoDataGenerator(partition['Test'], **params)"
   ]
  },
  {
   "cell_type": "code",
   "execution_count": null,
   "metadata": {},
   "outputs": [],
   "source": [
    "model = Sequential([\n",
    "    Conv3D(16, (4, 3, 3), activation='relu', input_shape=(training_generator.dim)),\n",
    "    MaxPooling3D(),\n",
    "    Conv3D(32, (3, 3, 3), activation='relu'),\n",
    "    MaxPooling3D(),\n",
    "    Conv3D(64, (1, 3, 3), activation='relu'),\n",
    "    MaxPooling3D(),\n",
    "    Flatten(),\n",
    "    Dense(2048, activation='relu'),\n",
    "    Dense(1024, activation='relu'),\n",
    "    Dense(2, activation='softmax')\n",
    "])\n",
    "\n",
    "model.compile(optimizer='nadam', loss='categorical_crossentropy', metrics=['accuracy'])\n",
    "\n",
    "model.summary()"
   ]
  },
  {
   "cell_type": "code",
   "execution_count": null,
   "metadata": {},
   "outputs": [],
   "source": [
    "callback = tf.keras.callbacks.EarlyStopping(monitor='val_loss', patience=3, restore_best_weights=True)\n",
    "\n",
    "history = model.fit(training_generator, validation_data=validation_generator, epochs=100, callbacks=[callback])"
   ]
  },
  {
   "cell_type": "code",
   "execution_count": null,
   "metadata": {},
   "outputs": [],
   "source": [
    "#plt.plot(history.history['accuracy'], label='accuracy')\n",
    "#plt.plot(history.history['loss'], label='loss')\n",
    "plt.plot(history.history['val_accuracy'], label = 'val_accuracy')\n",
    "plt.plot(history.history['val_loss'], label = 'val_loss')\n",
    "plt.xlabel('Epoch')\n",
    "plt.ylabel('Accuracy/Loss')\n",
    "plt.ylim([0, 1])\n",
    "plt.legend(loc='lower right')"
   ]
  },
  {
   "cell_type": "code",
   "execution_count": null,
   "metadata": {},
   "outputs": [],
   "source": [
    "export_time = datetime.datetime.now().strftime(\"%Y-%m-%d-%H%M\")\n",
    "export_path = pathlib.Path(\"export/{}_model.h5\".format(export_time))\n",
    "export_hist_path = pathlib.Path(\"export/{}_hist.csv\".format(export_time)) \n",
    "export_fig_path = pathlib.Path(\"export/{}_hist.svg\".format(export_time))\n",
    "export_script_path = pathlib.Path(\"export/{}_train.py\".format(export_time))\n",
    "print(\"Exporting trained model to {}\".format(export_path.absolute()))\n",
    "\n",
    "pd.DataFrame.from_dict(history.history).to_csv(export_hist_path, index=False)\n",
    "plt.savefig(export_fig_path, format='svg', bbox_inches='tight')\n",
    "model.save(export_path)\n",
    "shutil.copy(\"train.py\", export_script_path)"
   ]
  },
  {
   "cell_type": "code",
   "execution_count": null,
   "metadata": {},
   "outputs": [],
   "source": []
  }
 ]
}