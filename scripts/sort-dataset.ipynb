{
 "nbformat": 4,
 "nbformat_minor": 2,
 "metadata": {
  "language_info": {
   "name": "python",
   "codemirror_mode": {
    "name": "ipython",
    "version": 3
   },
   "version": "3.5.2-final"
  },
  "orig_nbformat": 2,
  "file_extension": ".py",
  "mimetype": "text/x-python",
  "name": "python",
  "npconvert_exporter": "python",
  "pygments_lexer": "ipython3",
  "version": 3,
  "kernelspec": {
   "name": "python35264bitspeechactionclassifierpipenvdfaa7eef14f8459c950e835f550776a1",
   "display_name": "Python 3.5.2 64-bit ('SpeechActionClassifier': pipenv)"
  }
 },
 "cells": [
  {
   "cell_type": "code",
   "execution_count": null,
   "metadata": {},
   "outputs": [],
   "source": [
    "from math import floor, ceil\n",
    "from pathlib import Path\n",
    "from termcolor import cprint, colored\n",
    "import shutil\n",
    "import pandas as pd\n",
    "\n",
    "data_dir = Path(\"../data\").resolve()\n",
    "\n",
    "unsorted_path = data_dir / \"unsorted\"\n",
    "out_path = data_dir\n",
    "classes_file = data_dir / \"classes.txt\"\n",
    "\n",
    "log_file = open(\"log.txt\", \"w+\")\n",
    "\n",
    "with open(classes_file) as classes_file:\n",
    "    CLASS_NAMES = classes_file.read().splitlines()\n",
    "\n",
    "errors = ['Partial', '!! BAD', 'Inaudible']"
   ]
  },
  {
   "cell_type": "code",
   "execution_count": null,
   "metadata": {},
   "outputs": [],
   "source": [
    "def print_progress(curr, total):\n",
    "    bars = floor((curr/total)*10)*'|'\n",
    "    dashes = (11 - ceil((curr/total)*10))*'='\n",
    "    print(\"\\r[{}{}]\".format(bars, dashes), end=\"\")"
   ]
  },
  {
   "cell_type": "code",
   "execution_count": null,
   "metadata": {},
   "outputs": [],
   "source": [
    "manual_classes = list(unsorted_path.glob(\"**/_classes.csv\"))\n",
    "count = 0\n",
    "copied = 0\n",
    "skipped = 0\n",
    "total = 0\n",
    "\n",
    "for csv in manual_classes:\n",
    "    total += sum(1 for line in open(csv))\n",
    "\n",
    "for csv in manual_classes:\n",
    "    data = pd.read_csv(csv, header=None)\n",
    "    seg_dir = csv.parent / 'segments'\n",
    "    out_dir = out_path / csv.relative_to(unsorted_path).parent\n",
    "    out_dir.mkdir(parents=True, exist_ok=True)\n",
    "    splits = 0\n",
    "\n",
    "    for c in CLASS_NAMES:\n",
    "        (out_dir / c).mkdir(parents=True, exist_ok=True)\n",
    "\n",
    "    for index, row in data.iterrows():\n",
    "        infile = seg_dir / \"{:06d}.mp4\".format(row[0])\n",
    "        outfile = out_dir / row[1] / \"{:06d}.mp4\".format(row[0])\n",
    "        print_progress(count, total)\n",
    "        if pd.notnull(row[2]) and any([x in row[2] for x in errors]):\n",
    "            cprint(\" Skipped ({:06d}, {}, {})             \".format(row[0], row[1], row[2]), 'red', end=\"\", flush=True)\n",
    "            log_file.write(\"Skipped copying file {} with entry ({:06d}, {}, {}). Reason: Matched a known error subclass.\\n\".format(infile, row[0], row[1], row[2]))\n",
    "            skipped += 1\n",
    "        elif pd.notnull(row[2]) and \"Speaker Change\" in row[2]:\n",
    "            print(\"\", end=\"\\r\")\n",
    "            cprint(\"Found Speaker Change in file {} at {:06d}. Splitting data into new set.\".format(csv, row[0]), 'blue', flush=True)\n",
    "            splits += 1\n",
    "            new_id =  str(csv.relative_to(unsorted_path).parent) + \"-\" + str(splits)\n",
    "            out_dir = out_path / new_id\n",
    "            out_dir.mkdir(parents=True, exist_ok=True)\n",
    "            for c in CLASS_NAMES:\n",
    "                (out_dir / c).mkdir(parents=True, exist_ok=True)\n",
    "            log_file.write(\"Split video dataset defined in {} at {} due to speaker change. New ID: {}\\n\".format(csv, row[0],  new_id))\n",
    "            skipped += 1\n",
    "        elif pd.notnull(row[2]):\n",
    "            cprint(\" Copying ({:06d}, {}, {})             \".format(row[0], row[1], row[2]), 'yellow', end=\"\", flush=True)\n",
    "            shutil.copy(str(infile), str(outfile))\n",
    "            copied += 1\n",
    "        elif row[1] in CLASS_NAMES:\n",
    "            print(\" Copying ({:06d}, {})...               \".format(row[0], row[1]), end=\"\", flush=True)\n",
    "            shutil.copy(str(infile), str(outfile))\n",
    "            copied += 1\n",
    "        else:\n",
    "            print(\"\", end=\"\\r\")\n",
    "            cprint(\"Failed to copy ({:06d}, {}, {}): Unknown class '{}'\".format(row[0], row[1], row[2], row[1]), 'red', flush=True)\n",
    "            log_file.write(\"Skipped copying file {} with entry ({:06d}, {}, {}). Reason: Unknown class {}.\\n\".format(infile, row[0], row[1], row[2], row[1]))\n",
    "            skipped += 1\n",
    "        count += 1\n",
    "\n",
    "print(\"\\rDone. Copied {} files with {} classes. ({} skipped, see log file for details)\".format(copied, len(CLASS_NAMES), skipped))\n",
    "log_file.close()"
   ]
  },
  {
   "cell_type": "code",
   "execution_count": null,
   "metadata": {},
   "outputs": [],
   "source": []
  }
 ]
}