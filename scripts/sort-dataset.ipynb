{
 "nbformat": 4,
 "nbformat_minor": 2,
 "metadata": {
  "language_info": {
   "name": "python",
   "codemirror_mode": {
    "name": "ipython",
    "version": 3
   },
   "version": "3.7.5-final"
  },
  "orig_nbformat": 2,
  "file_extension": ".py",
  "mimetype": "text/x-python",
  "name": "python",
  "npconvert_exporter": "python",
  "pygments_lexer": "ipython3",
  "version": 3,
  "kernelspec": {
   "name": "python37564bitspeechactionclassifierpipenv9f5f4c8910dd4870ae43479f8ed6aa94",
   "display_name": "Python 3.7.5 64-bit ('SpeechActionClassifier': pipenv)"
  }
 },
 "cells": [
  {
   "cell_type": "code",
   "execution_count": 1,
   "metadata": {},
   "outputs": [],
   "source": [
    "from math import floor, ceil\n",
    "from pathlib import Path\n",
    "from termcolor import cprint, colored\n",
    "import shutil\n",
    "import pandas as pd\n",
    "\n",
    "data_dir = Path(\"../data\")\n",
    "\n",
    "unsorted_path = data_dir / \"unsorted\"\n",
    "out_path = data_dir\n",
    "classes_file = data_dir / \"classes.txt\"\n",
    "\n",
    "log_file = open(\"log.txt\", \"w+\")\n",
    "\n",
    "with open(classes_file) as classes_file:\n",
    "    CLASS_NAMES = classes_file.read().splitlines()\n",
    "\n",
    "errors = ['Partial', '!! BAD', 'Inaudible']"
   ]
  },
  {
   "cell_type": "code",
   "execution_count": 2,
   "metadata": {},
   "outputs": [],
   "source": [
    "def printcr():\n",
    "    print(\"\\r\", end=\"\")\n",
    "\n",
    "def print_progress(curr, total):\n",
    "    bars = floor((curr/total)*10)*'|'\n",
    "    dashes = (11 - ceil((curr/total)*10))*'='\n",
    "    print(\"[{}{}]\".format(bars, dashes), end=\"\")"
   ]
  },
  {
   "cell_type": "code",
   "execution_count": 3,
   "metadata": {},
   "outputs": [
    {
     "name": "stdout",
     "output_type": "stream",
     "text": "Done. Copied 3416 files with 2 classes. (226 skipped, see log file for details)\n"
    }
   ],
   "source": [
    "manual_classes = list(unsorted_path.glob(\"**/_classes.csv\"))\n",
    "count = 0\n",
    "copied = 0\n",
    "skipped = 0\n",
    "total = 0\n",
    "\n",
    "for csv in manual_classes:\n",
    "    total += sum(1 for line in open(csv))\n",
    "\n",
    "for csv in manual_classes:\n",
    "    data = pd.read_csv(csv, header=None)\n",
    "    seg_dir = csv.parent / 'segments'\n",
    "    out_dir = out_path / csv.relative_to(unsorted_path).parent\n",
    "    out_dir.mkdir(parents=True, exist_ok=True)\n",
    "\n",
    "    for c in CLASS_NAMES:\n",
    "        (out_dir / c).mkdir(parents=True, exist_ok=True)\n",
    "\n",
    "    for index, row in data.iterrows():\n",
    "        infile = seg_dir / \"{:06d}.mp4\".format(row[0])\n",
    "        outfile = out_dir / row[1] / \"{:06d}.mp4\".format(row[0])\n",
    "        if pd.notnull(row[2]) and any([x in row[2] for x in errors]):\n",
    "            printcr()\n",
    "            print_progress(count, total)\n",
    "            cprint(\" Skipped ({:06d}, {}, {})             \".format(row[0], row[1], row[2]), 'red', end=\"\", flush=True)\n",
    "            log_file.write(\"Skipped copying file {} with entry ({:06d}, {}, {}). Reason: Matched a known error subclass.\\n\".format(infile, row[0], row[1], row[2]))\n",
    "            count += 1\n",
    "            skipped += 1\n",
    "        elif pd.notnull(row[2]):\n",
    "            printcr()\n",
    "            print_progress(count, total)\n",
    "            cprint(\" Copying ({:06d}, {}, {})             \".format(row[0], row[1], row[2]), 'yellow', end=\"\", flush=True)\n",
    "            shutil.copy(str(infile), str(outfile))\n",
    "            count += 1\n",
    "            copied += 1\n",
    "        elif row[1] in CLASS_NAMES:\n",
    "            printcr()\n",
    "            print_progress(count, total)\n",
    "            print(\" Copying ({:06d}, {})...               \".format(row[0], row[1]), end=\"\", flush=True)\n",
    "            shutil.copy(str(infile), str(outfile))\n",
    "            count += 1\n",
    "            copied += 1\n",
    "        else:\n",
    "            cprintcr()\n",
    "            print_progress(count, total)\n",
    "            cprint(\" Failed to copy ({:06d}, {}, {}): Unknown class '{}'\".format(row[0], row[1], row[2], row[1]), 'red', flush=True)\n",
    "            log_file.write(\"Skipped copying file {} with entry ({:06d}, {}, {}). Reason: Unknown class {}.\\n\".format(infile, row[0], row[1], row[2], row[1]))\n",
    "            count += 1\n",
    "            skipped += 1\n",
    "\n",
    "print(\"\\rDone. Copied {} files with {} classes. ({} skipped, see log file for details)\".format(copied, len(CLASS_NAMES), skipped))\n",
    "log_file.close()"
   ]
  },
  {
   "cell_type": "code",
   "execution_count": null,
   "metadata": {},
   "outputs": [],
   "source": []
  }
 ]
}