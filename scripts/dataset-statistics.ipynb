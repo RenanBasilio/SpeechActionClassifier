{
 "nbformat": 4,
 "nbformat_minor": 2,
 "metadata": {
  "language_info": {
   "name": "python",
   "codemirror_mode": {
    "name": "ipython",
    "version": 3
   },
   "version": "3.7.5-final"
  },
  "orig_nbformat": 2,
  "file_extension": ".py",
  "mimetype": "text/x-python",
  "name": "python",
  "npconvert_exporter": "python",
  "pygments_lexer": "ipython3",
  "version": 3,
  "kernelspec": {
   "name": "python37564bitspeechactionclassifierpipenv9f5f4c8910dd4870ae43479f8ed6aa94",
   "display_name": "Python 3.7.5 64-bit ('SpeechActionClassifier': pipenv)"
  }
 },
 "cells": [
  {
   "cell_type": "code",
   "execution_count": null,
   "metadata": {},
   "outputs": [],
   "source": [
    "from pathlib import Path\n",
    "from datetime import date\n",
    "import sys\n",
    "\n",
    "import pandas as pd\n",
    "\n",
    "data_dir = Path(\"../data\")\n",
    "\n",
    "errors = ['Partial', '!! BAD', 'Inaudible', 'Maybe']"
   ]
  },
  {
   "cell_type": "code",
   "execution_count": null,
   "metadata": {},
   "outputs": [],
   "source": [
    "def count_samples():\n",
    "    classes = {\n",
    "        \"Errors\": 0\n",
    "    }\n",
    "        \n",
    "    classes_files = list(data_dir.glob(\"**/_classes.csv\"))\n",
    "\n",
    "    for f in classes_files:\n",
    "        data = pd.read_csv(f, header=None)\n",
    "        for index, row in data.iterrows():\n",
    "            if row[1] not in classes:\n",
    "                classes[row[1]] = 0\n",
    "            \n",
    "            if pd.notnull(row[2]) and any([x in row[2] for x in errors]):\n",
    "                classes[\"Errors\"] += 1\n",
    "                continue\n",
    "            else:\n",
    "                classes[row[1]] += 1\n",
    "            \n",
    "            if pd.notnull(row[2]) and not any([x in row[2] for x in errors]):\n",
    "                for c in row[2].split(\", \"):\n",
    "                    if c not in classes:\n",
    "                        classes[c] = 0\n",
    "                    classes[c] += 1\n",
    "\n",
    "    return classes"
   ]
  },
  {
   "cell_type": "code",
   "execution_count": null,
   "metadata": {},
   "outputs": [],
   "source": [
    "def print_info():\n",
    "    counts = count_samples()\n",
    "    counts_sorted = sorted(counts, key=counts.get, reverse=True)\n",
    "\n",
    "    info_file = data_dir / \"classes.info\"\n",
    "    with open(info_file, \"w+\", encoding='utf-8') as info_file:\n",
    "        info_file.write(\"Este arquivo enumera e define as classes de segmentos de vídeo presentes no dataset:\\n\\n\")\n",
    "        info_file.write(\"Idle    - O depoente se encontra parado ou realizando outra ação irrelevante ao propósito do reconhecedor.\\n\")\n",
    "        info_file.write(\"Speak   - O depoente se encontra falando.\\n\")\n",
    "        info_file.write(\"Nod     - O depoente balança a cabeça como se para dizer que sim.\\n\")\n",
    "        info_file.write(\"Shake   - O depoente balança a cabeça como se para dizer que não.\\n\")\n",
    "        info_file.write(\"Examine - O depoente se aproxima da câmera para examinar alguma evidência que lhe é apresentada.\\n\")\n",
    "        info_file.write(\"\\n\")\n",
    "        info_file.write(\"As seguintes classes estão sob análise devido à falta de vídeos representativos da mesma nos dados diarizados até agora.\\n\")\n",
    "        info_file.write(\"\\n\")\n",
    "        info_file.write(\"KindOf - O depoente balança a cabeça como que para dizer que \\\"mais ou menos\\\"\\n\")\n",
    "        info_file.write(\"\\n\")\n",
    "        info_file.write(\"Total de Amostras por Classe (Atualizado em {}):\\n\".format(date.today()))\n",
    "        for c in counts_sorted:\n",
    "            if c is not \"Errors\":\n",
    "                info_file.write(\"{}: {}\\n\".format(c, counts[c]))\n",
    "        info_file.write(\"\\n\")\n",
    "        info_file.write(\"Total de Amostras Inutilizáveis: {}\".format(counts[\"Errors\"]))"
   ]
  },
  {
   "cell_type": "code",
   "execution_count": null,
   "metadata": {},
   "outputs": [],
   "source": [
    "print_info()"
   ]
  },
  {
   "cell_type": "code",
   "execution_count": null,
   "metadata": {},
   "outputs": [],
   "source": []
  }
 ]
}